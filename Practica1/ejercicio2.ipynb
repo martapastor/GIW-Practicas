{
 "cells": [
  {
   "cell_type": "code",
   "execution_count": 7,
   "metadata": {},
   "outputs": [
    {
     "name": "stdout",
     "output_type": "stream",
     "text": [
      "Text to cypher: hija lago amigo\n",
      "Letter shift (n): 2\n",
      "Word shift (m): pepe\n",
      "\n",
      "Shift must be an integer. Please, introduce the values again.\n",
      "\n",
      "Letter shift (n): 3\n",
      "Word shift (m): 2\n",
      "\n",
      "Cyphered text: odjr dpljr klmd\n"
     ]
    }
   ],
   "source": [
    "def word_cypher(text, shift_L):\n",
    "    # We need to initialize the string variable\n",
    "    semi_cyphered_text = \"\"\n",
    "    \n",
    "    for each_char in text:\n",
    "        if each_char.isalpha():\n",
    "            semi_cyphered_text += chr((ord(each_char) + (int(shift_L)) % 26))\n",
    "        else:\n",
    "            semi_cyphered_text += each_char\n",
    "    return semi_cyphered_text    \n",
    "    \n",
    "    \n",
    "    \n",
    "def sentence_cypher(text, shift_L, shift_W):\n",
    "    full_cyphered_text = \"\"\n",
    "    semi_cyphered_text = word_cypher(text, shift_L)\n",
    "    \n",
    "    # We save in 'words' variable a list of the words conforming the full text to cypher\n",
    "    words = semi_cyphered_text.split(' ')\n",
    "    \n",
    "    # We slice the words list from the beginning to the end, producing a shallow copy...\n",
    "    tmp_copy = words[:]\n",
    "    #... and create an empty list where we will save the index of the word list to shift\n",
    "    index = []\n",
    "    \n",
    "    # We traverse the words list to reorder them depending on the shift given as parameter\n",
    "    for i in range(0, len(words)):\n",
    "        # We add to the index list the position of the current word to be shifted...\n",
    "        index.append((i + int(shift_W)) % len(words))\n",
    "        #... and copy into the tmp_copy array the word in the position assigned to it after the shift\n",
    "        tmp_copy[index[i]] = words[i]\n",
    "        \n",
    "    for j in range(0, len(tmp_copy) - 1):\n",
    "        # We add all words saved in the tmp array to the string that will be shown to the user\n",
    "        # Note that we do not use a blank space as separator but add it in the end instead to avoid\n",
    "        # having a blank space at the beginning of the full_cyphered_text string\n",
    "        separator = \"\"\n",
    "        full_cyphered_text += separator.join(tmp_copy[j]) + \" \"\n",
    "    \n",
    "    # We add the last word to the full_cyphered_string without adding a blank space at the end\n",
    "    full_cyphered_text += tmp_copy[len(tmp_copy) - 1]\n",
    "        \n",
    "    print (\"\\nCyphered text: \" + full_cyphered_text)    \n",
    "    \n",
    "    \n",
    "    \n",
    "if __name__ == \"__main__\":\n",
    "    text = input(\"Text to cypher: \")\n",
    "    shift_L = input(\"Letter shift (n): \")\n",
    "    shift_W = input(\"Word shift (m): \")\n",
    "    \n",
    "    while(not shift_L.isdigit() or not shift_W.isdigit()):\n",
    "        print (\"\\nShift must be an integer. Please, introduce the values again.\\n\")\n",
    "        shift_L = input(\"Letter shift (n): \")\n",
    "        shift_W = input(\"Word shift (m): \")\n",
    "    \n",
    "    sentence_cypher(text, shift_L, shift_W)"
   ]
  }
 ],
 "metadata": {
  "kernelspec": {
   "display_name": "Python 3",
   "language": "python",
   "name": "python3"
  },
  "language_info": {
   "codemirror_mode": {
    "name": "ipython",
    "version": 3
   },
   "file_extension": ".py",
   "mimetype": "text/x-python",
   "name": "python",
   "nbconvert_exporter": "python",
   "pygments_lexer": "ipython3",
   "version": "3.6.2"
  }
 },
 "nbformat": 4,
 "nbformat_minor": 2
}
