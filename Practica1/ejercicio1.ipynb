{
 "cells": [
  {
   "cell_type": "code",
   "execution_count": null,
   "metadata": {
    "collapsed": true
   },
   "outputs": [],
   "source": [
    "def billete(x, vuelta):\n",
    "    if (vuelta // x > 0.0):\n",
    "        print (\"Billete\", x, \":\", vuelta // x)\n",
    "    return (vuelta % x)\n",
    "    \n",
    "def monedas(y, vuelta):\n",
    "    if (vuelta // y > 0.0):\n",
    "        print (\"Moneda\", y, \":\", vuelta // y)\n",
    "    return (vuelta % y)\n",
    "\n",
    "def cambio (precio, dinero):\n",
    "    print (\"\\nVueltas:\")\n",
    "    \n",
    "    billetes = [500, 200, 100, 50, 20, 10, 5]\n",
    "    moneda = [2, 1, 0.50, 0.20, 0.10, 0.05, 0.02, 0.01]\n",
    "    vueltas = dinero - precio\n",
    "    \n",
    "    i = 0\n",
    "    j = 0\n",
    "    \n",
    "    while(vueltas >= 0.01):\n",
    "        while(vueltas >= 5):\n",
    "            vueltas = billete(billetes[i], vueltas)\n",
    "            i += 1\n",
    "        vueltas = monedas(moneda[j], vueltas)\n",
    "        j += 1\n",
    "    \n",
    "PVP = input (\"¿Cuánto cuesta?\\n\")\n",
    "\n",
    "midinero = input (\"¿Cuánto dinero tengo?\\n\")\n",
    "        \n",
    "cambio(float(PVP), float(midinero))"
   ]
  },
  {
   "cell_type": "code",
   "execution_count": null,
   "metadata": {
    "collapsed": true
   },
   "outputs": [],
   "source": []
  }
 ],
 "metadata": {
  "kernelspec": {
   "display_name": "Python 3",
   "language": "python",
   "name": "python3"
  },
  "language_info": {
   "codemirror_mode": {
    "name": "ipython",
    "version": 3
   },
   "file_extension": ".py",
   "mimetype": "text/x-python",
   "name": "python",
   "nbconvert_exporter": "python",
   "pygments_lexer": "ipython3",
   "version": "3.6.2"
  }
 },
 "nbformat": 4,
 "nbformat_minor": 2
}
