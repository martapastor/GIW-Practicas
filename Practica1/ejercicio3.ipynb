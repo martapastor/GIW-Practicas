{
 "cells": [
  {
   "cell_type": "code",
   "execution_count": null,
   "metadata": {
    "collapsed": true
   },
   "outputs": [],
   "source": [
    "import sys\n",
    "\n",
    "# We declare the name for the output file where the results will be written\n",
    "output_file = \"output.txt\"\n",
    "\n",
    "def count_words(lines_in_file):\n",
    "    # We create an empty dictionary to save the words and the number of times it appears in the text\n",
    "    # As the words are not sorted in the text, using a dictionary with a key -> value relation is the \n",
    "    # most efficient way to do it, as we can also search in the dictionary by the word itself and not\n",
    "    # necessarely by index\n",
    "    words_dic = {}\n",
    "    \n",
    "    for each_line in lines_in_file:\n",
    "        # We split the words read and save them into a list\n",
    "        words = each_line.split(' ')\n",
    "        \n",
    "        for each_word in words:\n",
    "            # The method strip() returns a copy of the string in which all chars have been stripped from \n",
    "            # the beginning and the end of the string. As no value is passed as argument, by default the \n",
    "            # whitespace char is the one removed.\n",
    "            each_word = each_word.strip()\n",
    "            \n",
    "            # If the word already exists in our dictionary as a key, we increment the counter by 1\n",
    "            if words_dic.has_key(each_word):\n",
    "                words_dic[each_word] += 1\n",
    "            # Otherwise, we create a new entry in the dictionary and initialize it to 1\n",
    "            else:\n",
    "                words_dic[each_word] = 1\n",
    "    \n",
    "    # We open the output file where we are going to write and save the results\n",
    "    f = open(output_file, 'w')\n",
    "    \n",
    "    # For each word stored in the dicitonary, we write the word itself (corresponding to the ley of the \n",
    "    # dicitonary) and the number of times it appear (corresponding to the value attached to the key)\n",
    "    for key, value in words_dic.items():\n",
    "        f.write(key + \": \" + str(value) + '\\n')\n",
    "        \n",
    "    f.close()\n",
    "\n",
    "\n",
    "if __name__ == \"__main__\":\n",
    "    if len(sys.argv) == 2:\n",
    "        try:\n",
    "            # We try to open the file passed by argument\n",
    "            f = open(sys.argv[1])\n",
    "            \n",
    "            # We read each line of the given file and save them in a list returned by the readlines() function\n",
    "            lines_in_file = f.readlines()\n",
    "            count_words(lines_in_file)\n",
    "            \n",
    "            f.close()\n",
    "        except:\n",
    "            # If the file passed by argument does not exist, an exception is catched and an error message is shown\n",
    "            print(\"The file does not exist.\")\n",
    "    else:\n",
    "        # We give the instructions to execute the program, as an argument (and only one) is necessary\n",
    "        print(\"Usage: python \" + sys.argv[0] + \" filename\")s\n"
   ]
  }
 ],
 "metadata": {
  "kernelspec": {
   "display_name": "Python 3",
   "language": "python",
   "name": "python3"
  },
  "language_info": {
   "codemirror_mode": {
    "name": "ipython",
    "version": 3
   },
   "file_extension": ".py",
   "mimetype": "text/x-python",
   "name": "python",
   "nbconvert_exporter": "python",
   "pygments_lexer": "ipython3",
   "version": "3.6.2"
  }
 },
 "nbformat": 4,
 "nbformat_minor": 2
}
