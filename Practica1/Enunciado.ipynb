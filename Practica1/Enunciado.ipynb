{
 "cells": [
  {
   "cell_type": "markdown",
   "metadata": {},
   "source": [
    "### Práctica de Introducción al lenguaje Python"
   ]
  },
  {
   "cell_type": "code",
   "execution_count": null,
   "metadata": {
    "collapsed": true
   },
   "outputs": [],
   "source": [
    "# Víctor Fernández Rubio\n",
    "# David González Jiménez\n",
    "# Carlos Llames Arribas\n",
    "# Marta Pastor Puente"
   ]
  },
  {
   "cell_type": "markdown",
   "metadata": {},
   "source": [
    "#### Ejercicio 1[3 puntos]\n",
    "Considerar las monedas y billetes en curso de la Unión Europea. Se pide hacer un programa con  las funciones necesarias para  gestionar un terminal de punto de venta. Concretamente se quiere ayudar al cajero de manera que cuando introduzca el importe de la venta y el dinero entregado por el cliente, el programa muestre las vueltas que debe entregar al cliente de una forma óptima. Las vueltas son óptimas si para pagar una cantidad C se utiliza el menor número posible de monedas o billetes. Se va a suponer que existen monedas y billetes infinitos en el terminal de punto de venta."
   ]
  },
  {
   "cell_type": "code",
   "execution_count": null,
   "metadata": {
    "collapsed": true
   },
   "outputs": [],
   "source": [
    "# We will calculate how many bills we have to return\n",
    "def billete(x, vuelta):\n",
    "    # We only print the change if we return at least one bill of the given value\n",
    "    if (vuelta // x > 0.0):\n",
    "        print (\"Billete\", x, \":\", vuelta // x)\n",
    "    return (vuelta % x)\n",
    "\n",
    "\n",
    "\n",
    "# We will calculate how many coins we have to return\n",
    "def monedas(y, vuelta):\n",
    "    # We only print the change if we return at least one coin of the given value\n",
    "    if (vuelta // y > 0.0):\n",
    "        print (\"Moneda\", y, \":\", vuelta // y)\n",
    "    return (vuelta % y)\n",
    "\n",
    "\n",
    "\n",
    "# We will calculate how many coins and bills and of which value we have to given\n",
    "# in return to obtain the most efficient change strategy\n",
    "def cambio (precio, dinero):\n",
    "    print (\"\\nVueltas:\")\n",
    "\n",
    "    # We save the different values of bills and coins (in €) in two arrays to\n",
    "    # traverse later\n",
    "    billetes = [500, 200, 100, 50, 20, 10, 5]\n",
    "    moneda = [2, 1, 0.50, 0.20, 0.10, 0.05, 0.02, 0.01]\n",
    "    vueltas = dinero - precio\n",
    "\n",
    "    # We will use two counters to store the index of the element of the array we\n",
    "    # have to access\n",
    "    i = 0\n",
    "    j = 0\n",
    "\n",
    "    # While we still have change to return...\n",
    "    while(vueltas >= 0.01):\n",
    "        # ... and it is greater than five so we can use bills...\n",
    "        while(vueltas >= 5):\n",
    "            # We calculate how many bills we have to give in return\n",
    "            vueltas = billete(billetes[i], vueltas)\n",
    "            i += 1\n",
    "        # We calculate how many coins we have to give in return\n",
    "        vueltas = monedas(moneda[j], vueltas)\n",
    "        j += 1\n",
    "\n",
    "\n",
    "\n",
    "if __name__ == \"__main__\":\n",
    "    PVP = input (\"¿Cuánto cuesta?\\n\")\n",
    "    midinero = input (\"¿Cuánto dinero tengo?\\n\")\n",
    "\n",
    "    cambio(float(PVP), float(midinero))"
   ]
  },
  {
   "cell_type": "markdown",
   "metadata": {},
   "source": [
    "#### Ejercicio 2[3,5 puntos]\n",
    "Considerar un sistema de cifrado en el que se sustituye cada letra en el texto original por otra letra que se encuentra un número fijo de posiciones más adelante en el alfabeto. Por ejemplo si el desplazamiento es 3 posiciones, y se considera la letra A, entonces sería sustituida por la letra D que se encuentra situada 3 lugares a la derecha de la A. Se considera que el alfabeto es circular por lo que a continuación de la Z comienza la letra A. Sólo se codifican las letras, el resto de símbolos se mantienen tal cual. A continuación, una vez cifrado el texto, si éste contiene más de una palabra, entonces se reordenan las palabras cifradas, moviendo cada palabra m posiciones hacia la derecha. Así la palabra que ocupa la posición 1 se mueve a la posición m+1, y así sucesivamente (la palabra que ocupa la posición n se moverá a la posición m). Se pide implementar un programa en Python que solicite al usuario que introduzca por teclado un texto a codificar, dos números que representan el desplazamiento de letras y el desplazamiento de las palabras codificadas. Como resultado, el programa mostrará por pantalla el mensaje codificado. Se deben hacer las comprobaciones necesarias sobre la entrada, es decir que es una cadena y 2 números.\n"
   ]
  },
  {
   "cell_type": "code",
   "execution_count": null,
   "metadata": {
    "collapsed": true
   },
   "outputs": [],
   "source": [
    "def word_cypher(text, shift_L):\n",
    "    # We need to initialize the string variable\n",
    "    semi_cyphered_text = \"\"\n",
    "    \n",
    "    for each_char in text:\n",
    "        if each_char.isalpha():\n",
    "            semi_cyphered_text += chr((ord(each_char) + (int(shift_L)) % 26))\n",
    "        else:\n",
    "            semi_cyphered_text += each_char\n",
    "    return semi_cyphered_text    \n",
    "    \n",
    "    \n",
    "    \n",
    "def sentence_cypher(text, shift_L, shift_W):\n",
    "    full_cyphered_text = \"\"\n",
    "    semi_cyphered_text = word_cypher(text, shift_L)\n",
    "    \n",
    "    # We save in 'words' variable a list of the words conforming the full text to cypher\n",
    "    words = semi_cyphered_text.split(' ')\n",
    "    \n",
    "    # We slice the words list from the beginning to the end, producing a shallow copy...\n",
    "    tmp_copy = words[:]\n",
    "    #... and create an empty list where we will save the index of the word list to shift\n",
    "    index = []\n",
    "    \n",
    "    # We traverse the words list to reorder them depending on the shift given as parameter\n",
    "    for i in range(0, len(words)):\n",
    "        # We add to the index list the position of the current word to be shifted...\n",
    "        index.append((i + int(shift_W)) % len(words))\n",
    "        #... and copy into the tmp_copy array the word in the position assigned to it after the shift\n",
    "        tmp_copy[index[i]] = words[i]\n",
    "        \n",
    "    for j in range(0, len(tmp_copy) - 1):\n",
    "        # We add all words saved in the tmp array to the string that will be shown to the user\n",
    "        # Note that we do not use a blank space as separator but add it in the end instead to avoid\n",
    "        # having a blank space at the beginning of the full_cyphered_text string\n",
    "        separator = \"\"\n",
    "        full_cyphered_text += separator.join(tmp_copy[j]) + \" \"\n",
    "    \n",
    "    # We add the last word to the full_cyphered_string without adding a blank space at the end\n",
    "    full_cyphered_text += tmp_copy[len(tmp_copy) - 1]\n",
    "        \n",
    "    print (\"\\nCyphered text: \" + full_cyphered_text)    \n",
    "    \n",
    "    \n",
    "    \n",
    "if __name__ == \"__main__\":\n",
    "    text = input(\"Text to cypher: \")\n",
    "    shift_L = input(\"Letter shift (n): \")\n",
    "    shift_W = input(\"Word shift (m): \")\n",
    "    \n",
    "    while(not shift_L.isdigit() or not shift_W.isdigit()):\n",
    "        print (\"\\nShift must be an integer. Please, introduce the values again.\\n\")\n",
    "        shift_L = input(\"Letter shift (n): \")\n",
    "        shift_W = input(\"Word shift (m): \")\n",
    "    \n",
    "    sentence_cypher(text, shift_L, shift_W)"
   ]
  },
  {
   "cell_type": "markdown",
   "metadata": {},
   "source": [
    "#### Ejercicio 3[3,5 puntos]\n",
    "Implementar un programa en Python tal que tomando como entrada el nombre de un archivo de texto, analice el contenido  y escriba otro archivo de salida que muestre el número de veces que aparece cada palabra. Se deben eliminar separadores, conjunciones, artículos y preposiciones."
   ]
  },
  {
   "cell_type": "code",
   "execution_count": null,
   "metadata": {
    "collapsed": true
   },
   "outputs": [],
   "source": [
    "import sys\n",
    "\n",
    "# We declare the name for the output file where the results will be written\n",
    "output_file = \"output.txt\"\n",
    "\n",
    "def count_words(lines_in_file):\n",
    "    # We create an empty dictionary to save the words and the number of times it appears in the text\n",
    "    # As the words are not sorted in the text, using a dictionary with a key -> value relation is the\n",
    "    # most efficient way to do it, as we can also search in the dictionary by the word itself and not\n",
    "    # necessarely by index\n",
    "    words_dic = {}\n",
    "\n",
    "    for each_line in lines_in_file:\n",
    "        # We select the words such as prepositions and conjuntions that we don't\n",
    "        # to count during the process...\n",
    "        discarded_special_chars = ['', '-', '&', '/']\n",
    "        discarded_articles = ['el', 'la', 'los', 'las', 'un', 'uno', 'una', 'unos', 'unas', 'mi', 'mis', 'tu', 'tus', 'su', 'sus', 'nuestro', 'nuestros', 'vuestro', 'vuestros']\n",
    "        discarded_prepositions = ['a', 'ante', 'bajo', 'cabe', 'con', 'contra', 'de', 'desde', 'en', 'entre', 'hacia', 'hasta', 'para', 'por', 'segun', 'sin', 'so', 'sobre', 'tras']\n",
    "        discarded_conjunctions = ['y', 'e', 'ni', 'que', 'pero', 'aunque', 'sino', 'sea', 'pues', 'porque']\n",
    "        # ... and we add all different arrays in a unique list of discarded\n",
    "        # words (to avoid having to write again all of different arrays in the\n",
    "        # if condition of the loop while checking words of the file one by one)\n",
    "        discarded_words = discarded_prepositions + discarded_special_chars + discarded_articles + discarded_conjunctions\n",
    "\n",
    "        # We split the words read and save them into a list\n",
    "        words = each_line.split(' ')\n",
    "\n",
    "        for each_word in words:\n",
    "            # The method strip() returns a copy of the string in which all chars have been stripped from\n",
    "            # the beginning and the end of the string. As no value is passed as argument, by default the\n",
    "            # whitespace char is the one removed. The function lower() also converts all chars in the\n",
    "            # string to lowercase so the program will not count as two different words those who start\n",
    "            # uppercase for example in the beginning of a sentence:\n",
    "            each_word = each_word.strip().lower()\n",
    "\n",
    "            # If the word already exists in our dictionary as a key, we increment the counter by 1\n",
    "            if each_word in words_dic:\n",
    "                words_dic[each_word] += 1\n",
    "            # Otherwise, we create a new entry in the dictionary and initialize it to 1...\n",
    "            else:\n",
    "                # ... only if the word is not in the discarded_words list\n",
    "                if (each_word not in discarded_words):\n",
    "                    words_dic[each_word] = 1\n",
    "\n",
    "    # We open the output file where we are going to write and save the results\n",
    "    f = open(output_file, 'w')\n",
    "\n",
    "    # For each word stored in the dicitonary, we write the word itself (corresponding to the ley of the\n",
    "    # dicitonary) and the number of times it appear (corresponding to the value attached to the key)\n",
    "    for key, value in words_dic.items():\n",
    "        f.write(key + \": \" + str(value) + '\\n')\n",
    "\n",
    "    f.close()\n",
    "\n",
    "\n",
    "if __name__ == \"__main__\":\n",
    "    if len(sys.argv) == 2:\n",
    "        # We try to open the file passed by argument\n",
    "        file_to_read = open(sys.argv[1])\n",
    "\n",
    "        if (file_to_read):\n",
    "            # We read each line of the given file and save them in a list returned by the readlines() function\n",
    "            lines_in_file = file_to_read.readlines()\n",
    "            count_words(lines_in_file)\n",
    "\n",
    "            file_to_read.close()\n",
    "        else:\n",
    "            print(\"The file does not exist.\")\n",
    "    else:\n",
    "        print(\"Usage: python \" + sys.argv[0] + \" filename\")"
   ]
  },
  {
   "cell_type": "markdown",
   "metadata": {},
   "source": [
    "#### Normas de entrega\n",
    "\n",
    "* Fecha tope de entrega: 13/10/2017\n",
    "* La entrega se realizará subiendo al campus virtual un notebook de Jupyter con la solución. El archivo tendrá como nombre IntroPython_GrupoX donde X será el número de grupo correspondiente."
   ]
  },
  {
   "cell_type": "code",
   "execution_count": null,
   "metadata": {
    "collapsed": true
   },
   "outputs": [],
   "source": []
  }
 ],
 "metadata": {
  "anaconda-cloud": {},
  "celltoolbar": "Raw Cell Format",
  "kernelspec": {
   "display_name": "Python 3",
   "language": "python",
   "name": "python3"
  },
  "language_info": {
   "codemirror_mode": {
    "name": "ipython",
    "version": 3
   },
   "file_extension": ".py",
   "mimetype": "text/x-python",
   "name": "python",
   "nbconvert_exporter": "python",
   "pygments_lexer": "ipython3",
   "version": "3.6.2"
  }
 },
 "nbformat": 4,
 "nbformat_minor": 1
}
